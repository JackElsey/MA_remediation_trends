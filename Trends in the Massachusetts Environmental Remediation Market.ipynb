{
 "cells": [
  {
   "cell_type": "markdown",
   "metadata": {},
   "source": [
    "Written by Jack Elsey for UEP-232: Introduction to Geographical Information Systems.\n",
    "\n",
    "# Topic Summary and Background\n",
    "Sites contaminated by hazardous waste in the United States have been shown to pose a significant hazard to human health and the environment (Canter & Sabatini, 1994). The Comprehensive Environmental Response, Compensation, and Liability Act (CERCLA), otherwise known as the “Superfund Act”, was passed in 1980 to address these risks. The law specified new requirements for cleaning up contamination at hazardous waste sites, and it led to the birth of the environmental remediation industry. After a couple decades of frenzied cleanup work, the United States environmental remediation industry has matured and entered a period of slower growth, expanding just one percent in 2015 (Environmental Business International Incorporated, 2016). \n",
    "\n",
    "Massachusetts has its own version of CERCLA, the Massachusetts Contingency Plan (MCP). The MCP expands on federal regulations and stipulates a process for environmental remediation that starts the moment a release of oil or hazardous materials (OHM) is discovered and ends when cleanup is completed and the hazardous waste site is closed.\n",
    "\n",
    "The MCP in Massachusetts is largely administered by \"Licensed Site Professionals\" (LSPs), who are engineers, geologists, and other environmental professionals in private consulting practice who are authorized by the state government to make decisions regarding the cleanup of hazardous waste sites. Other than occasionally auditing the LSPs and maintaining a public record of cleanup operations, the state government doesn't actually do any work at the vast majority of hazardous wastes sites. This unique supervisory model has been credited for greatly reducing administrative overhead and expediting site cleanup and closure (National Research Council, 2012).\n",
    "\n",
    "In Massachusetts, every release of OHM is assigned a Release Tracking Number (RTN) by the Massachusetts Department of Environmental Protection (MassDEP). RTNs are assigned to present-day OHM releases immediately after they occur and they are also assigned to newly-discovered past releases whenever a certain concentration of OHM is discovered in soil or groundwater. When a OHM release site is cleaned up or no longer deemed to be threat to human health or the environment, MassDEP makes a note of it in their records by filing a Class A “Remedial Action Outcome” (RAO), Class B RAO, or “Permanent Solution” report.\n",
    "\n",
    "\n",
    "# Research Questions\n",
    "1. Has the environmental remediation industry in Massachusetts slowed down because there is less work to do? That is, has the slowdown of the environmental remediation industry in Massachusetts coincided with a decrease in the discovery and creation of new hazardous waste releases?\n",
    "2. Has the environmental remediation industry in Massachusetts slowed down because sites are closed more quickly? That is, has the rate of hazardous waste site creation been outpaced by the rate at which they are cleaned up?\n",
    "3. What regions in Massachusetts have a high density of active cleanup sites per square mile, and how has that spatial distribution changed over the past 25 years?\n",
    "\n",
    "# Data Sources\n",
    "The Massachusetts Bureau of Geographic Information (MassGIS) maintains a [statewide point dataset](https://docs.digital.mass.gov/dataset/massgis-data-massdep-tier-classified-oil-andor-hazardous-material-sites-mgl-c-21e) of hazardous waste sites (MassGIS, 2017), but this dataset does not include sites that have been closed. MassDEP maintains an [online database](https://www.mass.gov/find-out-about-a-contaminated-property) of all current and closed hazardous waste sites (MassDEP, 2017). This database is not as precisely geocoded as the MassGIS dataset, but it was adequate for the creation of a choropleth map of towns in Massachusetts showing the number of active hazardous waste cleanup sites per square mile.\n",
    "\n",
    "The MassDEP online database is made up of several components. Only two components are used in this study:\n",
    "1. `RELEASE.DBF` contains location data for each RTN. Street addresses are included, but only towns are used for this study. Note that many entries in the `TOWN` column in this database are actually villages or non-municipal entities like Air Force bases, so some further processing is needed before joining this data into a polygon layer of towns in ArcGIS.\n",
    "2. `ACTION.DBF` contains data regarding administrative actions for each RTN. In this study we are concerned with the start and end dates for active cleanup at the OHM release site for each RTN.\n",
    "\n"
   ]
  },
  {
   "cell_type": "markdown",
   "metadata": {},
   "source": [
    "# Python Code and Data Manipulation Procedure\n",
    "First, import necessary Python modules."
   ]
  },
  {
   "cell_type": "code",
   "execution_count": 1,
   "metadata": {},
   "outputs": [],
   "source": [
    "import csv\n",
    "from datetime import datetime\n",
    "import numpy as np\n",
    "import matplotlib.pyplot as plt"
   ]
  },
  {
   "cell_type": "markdown",
   "metadata": {},
   "source": [
    "Import OHM release location data from `release.csv`. The file `release.csv` was created by converting the MassDEP file `RELEASE.DBF` to CSV format. The output is dictionary `rtn_town`, which contains RTNs as keys and town names as values."
   ]
  },
  {
   "cell_type": "code",
   "execution_count": 2,
   "metadata": {},
   "outputs": [],
   "source": [
    "rtn_town = {}\n",
    "with open('release.csv', newline='') as file_object:\n",
    "    reader_object = csv.reader(file_object, delimiter=',', quotechar='\"')\n",
    "    next(reader_object) # skip header row of CSV data\n",
    "    for row in reader_object:\n",
    "        rtn_town.update({row[0]:row[1]})"
   ]
  },
  {
   "cell_type": "markdown",
   "metadata": {},
   "source": [
    "Import OHM release date data from `action.csv`. The file `action.csv` was created by sorting the MassDEP file `ACTION.DBF` (first by RTN and then by date) and then converting the result to CSV format. The output is dictionary `rtn_dates`, for which each item contains an RTN as a key and a list of two dates as a value.\n",
    "\n",
    "The first date in this list is the start date and the second date is the end date: \n",
    "\n",
    "**start date:** This is the corresponding date for the earliest record in `ACTION.DBF` for that RTN, which is generally the date that the release of oil or hazardous materials was first reported to MassDEP. \n",
    "\n",
    "**end date:** If the release has been cleaned up (i.e., if the `RAO_CLASS` column in `ACTION.DBF` indicates a Class A RAO, Class B RAO, or \"permanent solution\"), this is the corresponding date for the latest record in `ACTION.DBF` that contains \"RAO\" in the `ACTION` column for that RTN."
   ]
  },
  {
   "cell_type": "code",
   "execution_count": 3,
   "metadata": {},
   "outputs": [],
   "source": [
    "rtn_dates = {}\n",
    "cleanup_classes = ['A1','A2','A3','A4','B1','B2','B3','PA','PC','PN']\n",
    "\n",
    "with open('action.csv', newline='') as file_object:\n",
    "    reader_object = csv.reader(file_object, delimiter=',', quotechar='\"')\n",
    "    next(reader_object) # skip header row of CSV data\n",
    "    \n",
    "    total_rtns = 0\n",
    "    rtns = []\n",
    "    actions = []\n",
    "    action_dates = []\n",
    "    rao_classes = []\n",
    "    for row in reader_object:\n",
    "        # if the current record has an incorrect date format, move on to the\n",
    "        # next record\n",
    "        try:\n",
    "            datetime.strptime(row[3], '%m/%d/%y')\n",
    "        except:\n",
    "            continue\n",
    "        \n",
    "        # read current record\n",
    "        row_rtn = row[0]\n",
    "        row_action = row[1]\n",
    "        row_date = datetime.strptime(row[3], '%m/%d/%y')\n",
    "        row_rao_class = row[4]\n",
    "        \n",
    "        if (len(rtns) > 0) and (row_rtn != rtns[-1]):\n",
    "            # The current record is for a new RTN.\n",
    "            # Process the previous RTN's data in the buffer.\n",
    "            total_rtns += 1\n",
    "            rtn = rtns[0]\n",
    "            start_date = action_dates[0]\n",
    "            if rao_classes[0] in cleanup_classes:\n",
    "                # The OHM spill was cleaned up. Find the latest date that\n",
    "                # contains \"RAO\" in the ACTION column and use that for end_date.\n",
    "                for i in range(len(rtns)-1,-1,-1):\n",
    "                    if actions[i] == 'RAO':\n",
    "                        end_date = action_dates[i]\n",
    "                        break\n",
    "            else:\n",
    "                # The OHM spill hasn't been cleaned up.\n",
    "                end_date = None\n",
    "            \n",
    "            rtn_dates.update({rtn:[start_date, end_date]})\n",
    "            \n",
    "            # clear buffer\n",
    "            rtns = []\n",
    "            actions = []\n",
    "            action_dates = []\n",
    "            rao_classes = []\n",
    "                \n",
    "        # add data from current record to buffer\n",
    "        rtns.append(row_rtn)\n",
    "        actions.append(row_action)\n",
    "        action_dates.append(row_date)\n",
    "        rao_classes.append(row_rao_class)"
   ]
  },
  {
   "cell_type": "markdown",
   "metadata": {},
   "source": [
    "Some values in the `TOWN` column in the MassDEP RTN location database `RELEASE.DBF` are actually villages, Air Force bases, or other locations that aren't an official municipality in Massachusetts. The next section replaces these nonstandard locations with the proper town names.\n",
    "\n",
    "Note that the town Royalston isn't present in the MassDEP RTN location database because it is a sparsely populated town and hasn't had any spills of OHM."
   ]
  },
  {
   "cell_type": "code",
   "execution_count": 4,
   "metadata": {
    "scrolled": true
   },
   "outputs": [
    {
     "name": "stdout",
     "output_type": "stream",
     "text": [
      "number of towns in MassDEP database: 525\n",
      "number of towns in MassGIS database: 351\n",
      "modifying names in MassDEP database to match those in MassGIS database...\n",
      "number of towns in GIS but not DEP: 2\n",
      "These towns are:\n",
      "['MANCHESTER-BY-THE-SEA', 'ROYALSTON']\n",
      "number of towns in DEP but not GIS: 1\n",
      "These towns are:\n",
      "MANCHESTER\n"
     ]
    }
   ],
   "source": [
    "# create list of all unique values from \"TOWN\" column in release.csv\n",
    "massdep_towns = list(set(rtn_town.values()))\n",
    "massdep_towns.sort()\n",
    "print('number of towns in MassDEP database: '+str(len(massdep_towns)))\n",
    "\n",
    "# create list of all towns in MassGIS\n",
    "massgis_towns = []\n",
    "with open('ma_towns.txt') as file_object:\n",
    "    for line in file_object:\n",
    "        town = line.strip().upper()\n",
    "        massgis_towns.append(town)\n",
    "\n",
    "massgis_towns.pop()\n",
    "print('number of towns in MassGIS database: '+str(len(massgis_towns)))\n",
    "\n",
    "print('modifying names in MassDEP database to match those in MassGIS database...')\n",
    "\n",
    "# change names in MassDEP RTN location database as per file dep_town_name_changes.csv\n",
    "dep_name_changes = {}\n",
    "with open('dep_town_name_changes.csv') as file_object:\n",
    "    reader_object = csv.reader(file_object, delimiter=',', quotechar='\"')\n",
    "    for line in reader_object:\n",
    "        dep_name_changes.update({line[0]:line[1]})\n",
    "\n",
    "fixed_massdep_towns = []\n",
    "for town in massdep_towns:\n",
    "    if town in dep_name_changes.keys():\n",
    "        fixed_massdep_towns.append(dep_name_changes[town].strip())\n",
    "    else:\n",
    "        fixed_massdep_towns.append(town.strip())\n",
    "\n",
    "# look for towns in the MassGIS database but not in the MassDEP database\n",
    "not_in_dep = []\n",
    "for town in massgis_towns:\n",
    "    if town not in fixed_massdep_towns:\n",
    "        not_in_dep.append(town)\n",
    "        \n",
    "print('number of towns in GIS but not DEP: '+str(len(not_in_dep)))\n",
    "print('These towns are:')\n",
    "print(not_in_dep)\n",
    "\n",
    "# look for towns in the MassDEP database but not in the MassGIS database\n",
    "not_in_gis = []\n",
    "for town in fixed_massdep_towns:\n",
    "    if town not in massgis_towns:\n",
    "        not_in_gis.append(town)\n",
    "        \n",
    "print('number of towns in DEP but not GIS: '+str(len(not_in_gis)))\n",
    "print('These towns are:')\n",
    "for town in not_in_gis:\n",
    "    print(town)\n",
    "\n",
    "# change town names in full dictionary of release locations\n",
    "for rtn, town in rtn_town.items():\n",
    "    if town in dep_name_changes:\n",
    "        rtn_town[rtn] = dep_name_changes[town]"
   ]
  },
  {
   "cell_type": "markdown",
   "metadata": {},
   "source": [
    "Generate CSV files used to create cloropleth maps in ArcGIS. If an RTN in `ACTION.DBF` (the MassDEP database used to determine active cleanup years for OHM releases) doesn't have a match in `RELEASE.DBF` (the MassDEP database used to determine OHM release locations), ignore it."
   ]
  },
  {
   "cell_type": "code",
   "execution_count": 5,
   "metadata": {},
   "outputs": [],
   "source": [
    "for year in range(1991,2017):\n",
    "    this_year = datetime(year,1,1)\n",
    "    next_year = datetime(year+1,1,1)\n",
    "    \n",
    "    # generate dictionary to hold total number of active OHM release sites for\n",
    "    # each town\n",
    "    active_rtn_counts = {}\n",
    "    for town in rtn_town.values():\n",
    "        active_rtn_counts.update({town:0})\n",
    "    \n",
    "    # if the current year falls in the active period for an RTN, increment the \n",
    "    # counter for that town\n",
    "    nonmatching_rtns = 0\n",
    "    for rtn, (start_date, end_date) in rtn_dates.items():\n",
    "        if (start_date<next_year) and ((end_date==None) or (this_year<end_date)):\n",
    "            try:\n",
    "                active_rtn_counts[rtn_town[rtn]] += 1\n",
    "            except:\n",
    "                nonmatching_rtns += 1\n",
    "        \n",
    "#     print('year = '+str(year))\n",
    "#     print('nonmatching RTNs = '+str(nonmatching_rtns))\n",
    "    \n",
    "    # generate CSV file for current year\n",
    "    with open (str(year)+'_rtn_count.csv', 'w', newline='') as file_object:\n",
    "        writer = csv.DictWriter(file_object, fieldnames=['TOWN', 'TOTAL_RTNS'])\n",
    "        writer.writeheader()\n",
    "        for town, rtn_count in active_rtn_counts.items():\n",
    "            writer.writerow({'TOWN':town, 'TOTAL_RTNS':rtn_count})\n",
    "        writer.writerow({'TOWN':'ROYALSTON', 'TOTAL_RTNS':0})"
   ]
  },
  {
   "cell_type": "markdown",
   "metadata": {},
   "source": [
    "Generate data for a graph showing the numbers of active and closed RTNs over time."
   ]
  },
  {
   "cell_type": "code",
   "execution_count": 6,
   "metadata": {},
   "outputs": [],
   "source": [
    "years = np.arange(1992,2017)\n",
    "active_rtn_total = np.zeros(years.size)\n",
    "closed_rtn_total = np.zeros(years.size)\n",
    "for year in years:\n",
    "    year_date = datetime(year,1,1)\n",
    "    \n",
    "    for rtn, (start_date, end_date) in rtn_dates.items():\n",
    "        if (start_date<year_date) and ((end_date==None) or (year_date<end_date)):\n",
    "            try:\n",
    "                test = rtn_town[rtn]\n",
    "                active_rtn_total[year-years[0]] += 1\n",
    "            except:\n",
    "                pass\n",
    "        \n",
    "        if not (end_date==None) and (end_date<year_date):\n",
    "            try:\n",
    "                closed_rtn_total[year-years[0]] += 1\n",
    "            except:\n",
    "                pass"
   ]
  },
  {
   "cell_type": "markdown",
   "metadata": {},
   "source": [
    "Display graph showing the numbers of active and closed RTNs over time."
   ]
  },
  {
   "cell_type": "code",
   "execution_count": 7,
   "metadata": {},
   "outputs": [
    {
     "data": {
      "image/png": "[encoded data removed]",
      "text/plain": [
       "<matplotlib.figure.Figure at 0x7fbe7a6e9588>"
      ]
     },
     "metadata": {},
     "output_type": "display_data"
    }
   ],
   "source": [
    "plt.style.use('seaborn-colorblind')\n",
    "fig, ax = plt.subplots(figsize=[12,8])\n",
    "closed_label = 'closed (Class A RAO, Class B RAO, or permanent solution)'\n",
    "active_label = 'active (all other releases)'\n",
    "ax.stackplot(years, [closed_rtn_total, active_rtn_total],\n",
    "             labels=[closed_label,active_label])\n",
    "ax.grid()\n",
    "ax.set_title('Oil and Hazardous Material Releases in Massachusetts')\n",
    "ax.set_xlabel('year')\n",
    "ax.set_ylabel('number of releases')\n",
    "ax.legend(loc='upper left')\n",
    "ax.set_xlim([1992,2016])\n",
    "plt.show()"
   ]
  },
  {
   "cell_type": "markdown",
   "metadata": {},
   "source": [
    "# Conclusions and Suggestions for Further Work\n",
    "As can be observed in the maps accompanying this study, active cleanup sites were initially clustered around the greater Boston area. As time progressed active cleanup sites became more evenly distributed across the state, but they remained concentrated in certain towns and metropolitan regions. Global Moran’s I analyses for 1991 and 2016 indicate that the clustering observable in the maps has less than a 1 percent chance of being the result of random distribution.\n",
    "\n",
    "A plot of active and closed hazardous waste cleanup sites is shown above. In contrast to the impression that there are fewer and fewer new hazardous waste sites around to be cleaned up, the plot indicates that the rates of site creation and site closure have largely remained approximately constant and equal over the past 25 years.\n",
    "\n",
    "For the purposes of this study, the period of active work at a OHM release site wasn't considered to be concluded until a Class A RAO, Class B RAO, or \"Permanent Solution\" was achieved at the site. It may be the case that many sites enter a state of decreased work well before these official closure conditions are achieved. For example, a site can apply for \"down-gradient property status\", which assigns liability for environmental cleanup to the owner of an adjacent property where OHM was released and migrated across property boundaries. Future work could look into this possibility.\n",
    "\n",
    "# References\n",
    "\n",
    "Canter, L. W., & Sabatini, D. A. (1994). Contamination of public ground water supplies by Superfund sites. International Journal of Environmental Studies, 46(1), 35–57. https://doi.org/10.1080/00207239408710909\n",
    "\n",
    "Environmental Business International Incorporated. (2016, July 5). U.S. Environmental Contracting Business Grows to $24.5 Billion in Revenues. Retrieved April 4, 2017, from http://www.environmentalbusiness.org/single-post/2016/07/05/US-Environmental-Contracting-Business-Grows-to-245-Billion-in-Revenues\n",
    "\n",
    "MassDEP. (2017, September). Downloadable Site Lists. Retrieved November 30, 2017, from http://www.mass.gov/eea/agencies/massdep/cleanup/sites/downloadable-site-lists.html\n",
    "\n",
    "MassGIS. (2017, October 18). MassDEP Tier Classified Oil and/or Hazardous Material Sites (MGL c. 21E). Retrieved November 30, 2017, from https://docs.digital.mass.gov/dataset/massgis-data-massdep-tier-classified-oil-andor-hazardous-material-sites-mgl-c-21e\n",
    "\n",
    "National Research Council. (2012). Alternatives for Managing the Nation’s Complex Contaminated Groundwater Sites. https://doi.org/10.17226/14668"
   ]
  }
 ],
 "metadata": {
  "kernelspec": {
   "display_name": "Python 3",
   "language": "python",
   "name": "python3"
  },
  "language_info": {
   "codemirror_mode": {
    "name": "ipython",
    "version": 3
   },
   "file_extension": ".py",
   "mimetype": "text/x-python",
   "name": "python",
   "nbconvert_exporter": "python",
   "pygments_lexer": "ipython3",
   "version": "3.5.2"
  }
 },
 "nbformat": 4,
 "nbformat_minor": 2
}
